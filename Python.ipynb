{
 "cells": [
  {
   "cell_type": "code",
   "execution_count": 1,
   "id": "49757e6e-62a2-4013-88e2-4508f2499801",
   "metadata": {},
   "outputs": [],
   "source": [
    "#Q.1 Explain the key features of python that makes it a popular choice for programming"
   ]
  },
  {
   "cell_type": "code",
   "execution_count": 2,
   "id": "a432d0c2-1931-48f0-829d-dfd09923004a",
   "metadata": {},
   "outputs": [],
   "source": [
    "#Answer"
   ]
  },
  {
   "cell_type": "code",
   "execution_count": 3,
   "id": "384911ec-7f65-41b4-b9de-64efb3505aa4",
   "metadata": {},
   "outputs": [],
   "source": [
    "# 1.readability and simplicity\n",
    "#2.versatile and high level \n",
    "#3.extensive standard library\n",
    "#4.dynamic typing\n",
    "#5.intepreter language\n",
    "#6.cross platform a capatibilites\n",
    "#7.large and active community\n",
    "#8.integration capabilities\n",
    "#9.support for mutiple programming paraigms\n",
    "#10.extensive third party library and frame work\n",
    "#11.Ease of learning and use."
   ]
  },
  {
   "cell_type": "code",
   "execution_count": 4,
   "id": "097abc56-6db1-4288-bc01-ede88e519d29",
   "metadata": {},
   "outputs": [],
   "source": [
    "#Q.2 Describe the role of predefined keywords in python and provide some e.g of how they are used in a program"
   ]
  },
  {
   "cell_type": "code",
   "execution_count": 5,
   "id": "c33700a8-b507-4429-a6f8-2576a3227702",
   "metadata": {},
   "outputs": [],
   "source": [
    "#Answer"
   ]
  },
  {
   "cell_type": "code",
   "execution_count": 11,
   "id": "6f22fb61-366d-4a61-9dd4-45b715412564",
   "metadata": {},
   "outputs": [
    {
     "name": "stdout",
     "output_type": "stream",
     "text": [
      "x is greather than 5\n"
     ]
    }
   ],
   "source": [
    "x = 10\n",
    "if x>5:\n",
    "    print(\"x is greather than 5\")\n",
    "elif x==5:\n",
    "    print(\"x is equal to 5\")\n",
    "else :\n",
    "    print(\"x is less than 5\")"
   ]
  },
  {
   "cell_type": "code",
   "execution_count": null,
   "id": "9bda905b-b72b-4ffa-a810-d7ceed0fa65c",
   "metadata": {},
   "outputs": [],
   "source": [
    "for i in range(5):\n",
    "    print(i)"
   ]
  },
  {
   "cell_type": "code",
   "execution_count": 1,
   "id": "81f08dbb-5ea9-49d8-a0c9-cc2550c1e450",
   "metadata": {},
   "outputs": [
    {
     "name": "stdout",
     "output_type": "stream",
     "text": [
      "0\n",
      "1\n",
      "2\n",
      "3\n",
      "4\n"
     ]
    }
   ],
   "source": [
    "count = 0\n",
    "while count < 5:\n",
    "    print(count)\n",
    "    count += 1"
   ]
  },
  {
   "cell_type": "code",
   "execution_count": 2,
   "id": "3b6e184b-02cf-41d6-afba-5be0ac8ff3a9",
   "metadata": {},
   "outputs": [
    {
     "name": "stdout",
     "output_type": "stream",
     "text": [
      "0\n",
      "1\n",
      "2\n",
      "3\n",
      "4\n"
     ]
    }
   ],
   "source": [
    "for i in range(10):\n",
    "    if i == 5:\n",
    "        break\n",
    "    print(i)\n"
   ]
  },
  {
   "cell_type": "code",
   "execution_count": 7,
   "id": "fc616603-cc88-400e-adc4-163d8c323434",
   "metadata": {},
   "outputs": [
    {
     "name": "stdout",
     "output_type": "stream",
     "text": [
      "1\n",
      "3\n",
      "5\n",
      "7\n",
      "9\n"
     ]
    }
   ],
   "source": [
    "for i in range(10):\n",
    "    if i % 2 == 0:\n",
    "        continue\n",
    "    print(i)\n"
   ]
  },
  {
   "cell_type": "code",
   "execution_count": 8,
   "id": "ccb247a7-c005-4fdd-a50e-23d125224783",
   "metadata": {},
   "outputs": [
    {
     "name": "stdout",
     "output_type": "stream",
     "text": [
      "16\n"
     ]
    }
   ],
   "source": [
    "def square(x):\n",
    "    return x * x\n",
    "\n",
    "result = square(4)\n",
    "print(result)"
   ]
  },
  {
   "cell_type": "code",
   "execution_count": 12,
   "id": "7f2ad2dc-6ad8-46f0-b69c-2f7cbb4332e1",
   "metadata": {},
   "outputs": [
    {
     "name": "stdout",
     "output_type": "stream",
     "text": [
      "4.47213595499958\n"
     ]
    }
   ],
   "source": [
    "import math\n",
    "print(math.sqrt(20))"
   ]
  },
  {
   "cell_type": "code",
   "execution_count": 13,
   "id": "5ae07208-f4f1-43a9-8e4d-cec19b53fd95",
   "metadata": {},
   "outputs": [
    {
     "name": "stdout",
     "output_type": "stream",
     "text": [
      "Buddy says woof!\n"
     ]
    }
   ],
   "source": [
    "class Dog:\n",
    "    def __init__(self, name):\n",
    "        self.name = name\n",
    "    \n",
    "    def bark(self):\n",
    "        return f\"{self.name} says woof!\"\n",
    "\n",
    "my_dog = Dog(\"Buddy\")\n",
    "print(my_dog.bark())"
   ]
  },
  {
   "cell_type": "code",
   "execution_count": 14,
   "id": "5c96a72c-5dd2-4129-9876-4174d078ba48",
   "metadata": {},
   "outputs": [
    {
     "name": "stdout",
     "output_type": "stream",
     "text": [
      "Cannot divide by zero!\n"
     ]
    }
   ],
   "source": [
    "try:\n",
    "    result = 10 / 0\n",
    "except ZeroDivisionError:\n",
    "    print(\"Cannot divide by zero!\")"
   ]
  },
  {
   "cell_type": "code",
   "execution_count": 15,
   "id": "6a6cd18d-ea23-4af2-bb5b-17b3cefccc72",
   "metadata": {},
   "outputs": [],
   "source": [
    "#Q.3 compare and contrast mutable and immutable objects in python with examples."
   ]
  },
  {
   "cell_type": "code",
   "execution_count": 17,
   "id": "9675e566-4f82-4292-b429-167632e6fd19",
   "metadata": {},
   "outputs": [],
   "source": [
    "# Ans"
   ]
  },
  {
   "cell_type": "code",
   "execution_count": null,
   "id": "dff95be6-a62a-4f24-a9e8-c9fac3f2d35c",
   "metadata": {},
   "outputs": [],
   "source": [
    "# mutable list example"
   ]
  },
  {
   "cell_type": "code",
   "execution_count": 19,
   "id": "0a5183f5-f01d-4cbb-a74f-7e747ad2fd18",
   "metadata": {},
   "outputs": [],
   "source": [
    "l= [1,2,3,4]"
   ]
  },
  {
   "cell_type": "code",
   "execution_count": 23,
   "id": "f90ffb84-6807-41c0-a85b-cf1cbb915cec",
   "metadata": {},
   "outputs": [],
   "source": [
    "l.append(5)"
   ]
  },
  {
   "cell_type": "code",
   "execution_count": 24,
   "id": "743760ff-9780-40d5-8037-b812aa41354c",
   "metadata": {},
   "outputs": [
    {
     "data": {
      "text/plain": [
       "[1, 2, 3, 4, 5]"
      ]
     },
     "execution_count": 24,
     "metadata": {},
     "output_type": "execute_result"
    }
   ],
   "source": [
    "l"
   ]
  },
  {
   "cell_type": "code",
   "execution_count": 25,
   "id": "7bb2f6da-7400-4dcc-8068-70b7a034d157",
   "metadata": {},
   "outputs": [],
   "source": [
    "# mutable dictionary example"
   ]
  },
  {
   "cell_type": "code",
   "execution_count": 27,
   "id": "7a9a8b29-849c-4de7-9900-436b9d1215fb",
   "metadata": {},
   "outputs": [],
   "source": [
    "d  = {'a' : 1,'b' : 2}"
   ]
  },
  {
   "cell_type": "code",
   "execution_count": 28,
   "id": "9ad26564-a1eb-4f67-9e70-590f9ae944ab",
   "metadata": {},
   "outputs": [
    {
     "data": {
      "text/plain": [
       "{'a': 1, 'b': 2}"
      ]
     },
     "execution_count": 28,
     "metadata": {},
     "output_type": "execute_result"
    }
   ],
   "source": [
    "d"
   ]
  },
  {
   "cell_type": "code",
   "execution_count": 29,
   "id": "70994055-fcb6-4f32-b971-43d2dda84284",
   "metadata": {},
   "outputs": [],
   "source": [
    "d['c'] = 3"
   ]
  },
  {
   "cell_type": "code",
   "execution_count": 30,
   "id": "774b81b1-8903-4d26-9c17-2a115c83534b",
   "metadata": {},
   "outputs": [
    {
     "data": {
      "text/plain": [
       "{'a': 1, 'b': 2, 'c': 3}"
      ]
     },
     "execution_count": 30,
     "metadata": {},
     "output_type": "execute_result"
    }
   ],
   "source": [
    "d"
   ]
  },
  {
   "cell_type": "code",
   "execution_count": 31,
   "id": "284a8386-a817-4958-b007-f927a81dfefe",
   "metadata": {},
   "outputs": [],
   "source": [
    "# mutable sets example"
   ]
  },
  {
   "cell_type": "code",
   "execution_count": 32,
   "id": "a5550430-08a5-4300-8b22-e1066c7bc89e",
   "metadata": {},
   "outputs": [],
   "source": [
    "s = {1,2,3,4,5}"
   ]
  },
  {
   "cell_type": "code",
   "execution_count": 33,
   "id": "46725f32-047e-45f7-86aa-0fbea15fc405",
   "metadata": {},
   "outputs": [
    {
     "data": {
      "text/plain": [
       "{1, 2, 3, 4, 5}"
      ]
     },
     "execution_count": 33,
     "metadata": {},
     "output_type": "execute_result"
    }
   ],
   "source": [
    "s"
   ]
  },
  {
   "cell_type": "code",
   "execution_count": 34,
   "id": "aa5f0571-7673-4d6d-b64a-6a5c65b0d2bd",
   "metadata": {},
   "outputs": [],
   "source": [
    "s.add(6)"
   ]
  },
  {
   "cell_type": "code",
   "execution_count": 35,
   "id": "989aa092-fc83-4363-b291-55806208dd22",
   "metadata": {},
   "outputs": [
    {
     "data": {
      "text/plain": [
       "{1, 2, 3, 4, 5, 6}"
      ]
     },
     "execution_count": 35,
     "metadata": {},
     "output_type": "execute_result"
    }
   ],
   "source": [
    "s"
   ]
  },
  {
   "cell_type": "code",
   "execution_count": 36,
   "id": "18033695-d03b-498a-ad67-1608b9c6400f",
   "metadata": {},
   "outputs": [],
   "source": [
    "# imutable example\n",
    "# string\n",
    "# tuple\n",
    "# integer\n",
    "# float"
   ]
  },
  {
   "cell_type": "code",
   "execution_count": 37,
   "id": "42183c1f-95b1-48df-b2fb-6da6978b524a",
   "metadata": {},
   "outputs": [],
   "source": [
    "# imutable string example"
   ]
  },
  {
   "cell_type": "code",
   "execution_count": 45,
   "id": "cf312ccb-085a-4a71-b54c-6e68ebcecf05",
   "metadata": {},
   "outputs": [],
   "source": [
    "s = \"Hello priya\""
   ]
  },
  {
   "cell_type": "code",
   "execution_count": 46,
   "id": "d6235f31-8ab6-41f3-a1d9-26c8faa54a1c",
   "metadata": {},
   "outputs": [
    {
     "data": {
      "text/plain": [
       "'Hello priya'"
      ]
     },
     "execution_count": 46,
     "metadata": {},
     "output_type": "execute_result"
    }
   ],
   "source": [
    "s"
   ]
  },
  {
   "cell_type": "code",
   "execution_count": 47,
   "id": "fcf3ce40-4da1-49db-a512-9b7ea48a59b8",
   "metadata": {},
   "outputs": [
    {
     "data": {
      "text/plain": [
       "'Beautiful priya'"
      ]
     },
     "execution_count": 47,
     "metadata": {},
     "output_type": "execute_result"
    }
   ],
   "source": [
    "s.replace(\"Hello\",\"Beautiful\")"
   ]
  },
  {
   "cell_type": "code",
   "execution_count": 49,
   "id": "ce50a723-ca7a-4a5f-b285-97179db8f6e7",
   "metadata": {},
   "outputs": [
    {
     "data": {
      "text/plain": [
       "'Hello priya'"
      ]
     },
     "execution_count": 49,
     "metadata": {},
     "output_type": "execute_result"
    }
   ],
   "source": [
    "s"
   ]
  },
  {
   "cell_type": "code",
   "execution_count": 50,
   "id": "0869b3fb-d343-4fb3-96d2-b3b350459840",
   "metadata": {},
   "outputs": [],
   "source": [
    "#immutable tuple Example"
   ]
  },
  {
   "cell_type": "code",
   "execution_count": 51,
   "id": "623d9f73-521c-4f16-be7e-68ac497ef787",
   "metadata": {},
   "outputs": [],
   "source": [
    "t = (1,2,3,4,5,6,7,8)"
   ]
  },
  {
   "cell_type": "code",
   "execution_count": 52,
   "id": "8f08d83d-b7fb-4cb4-90ba-c2a70c526804",
   "metadata": {},
   "outputs": [
    {
     "data": {
      "text/plain": [
       "(1, 2, 3, 4, 5, 6, 7, 8)"
      ]
     },
     "execution_count": 52,
     "metadata": {},
     "output_type": "execute_result"
    }
   ],
   "source": [
    "t"
   ]
  },
  {
   "cell_type": "code",
   "execution_count": 54,
   "id": "fcaa0e44-8683-4115-9603-a8d5a6857dd3",
   "metadata": {},
   "outputs": [
    {
     "ename": "TypeError",
     "evalue": "'tuple' object does not support item assignment",
     "output_type": "error",
     "traceback": [
      "\u001b[0;31m---------------------------------------------------------------------------\u001b[0m",
      "\u001b[0;31mTypeError\u001b[0m                                 Traceback (most recent call last)",
      "Cell \u001b[0;32mIn[54], line 1\u001b[0m\n\u001b[0;32m----> 1\u001b[0m \u001b[43mt\u001b[49m\u001b[43m[\u001b[49m\u001b[38;5;241;43m8\u001b[39;49m\u001b[43m]\u001b[49m \u001b[38;5;241m=\u001b[39m \u001b[38;5;241m9\u001b[39m\n",
      "\u001b[0;31mTypeError\u001b[0m: 'tuple' object does not support item assignment"
     ]
    }
   ],
   "source": [
    "t[8] = 9"
   ]
  },
  {
   "cell_type": "code",
   "execution_count": 55,
   "id": "a3de80b2-3aad-409b-bf25-cff9c84b4b0c",
   "metadata": {},
   "outputs": [],
   "source": [
    "# immutable Integer Example"
   ]
  },
  {
   "cell_type": "code",
   "execution_count": 58,
   "id": "17738820-cad3-42fd-b983-533759bf0581",
   "metadata": {},
   "outputs": [],
   "source": [
    "#Q.4 Discuss the diffrent types of operators in python and provide examples of how they are used."
   ]
  },
  {
   "cell_type": "code",
   "execution_count": 60,
   "id": "4878d916-9592-4ea2-ab22-9644743f1c77",
   "metadata": {},
   "outputs": [],
   "source": [
    "#Ans"
   ]
  },
  {
   "cell_type": "code",
   "execution_count": 63,
   "id": "1f2f528b-c45b-40db-89db-e7b38646731f",
   "metadata": {},
   "outputs": [
    {
     "name": "stdout",
     "output_type": "stream",
     "text": [
      "15\n"
     ]
    }
   ],
   "source": [
    "a = 5\n",
    "b = 10\n",
    "print(a+b)"
   ]
  },
  {
   "cell_type": "code",
   "execution_count": 64,
   "id": "53938382-b1b9-4453-845e-659c3782f19b",
   "metadata": {},
   "outputs": [
    {
     "name": "stdout",
     "output_type": "stream",
     "text": [
      "-5\n"
     ]
    }
   ],
   "source": [
    "a = 10\n",
    "b = 15\n",
    "print(a-b)"
   ]
  },
  {
   "cell_type": "code",
   "execution_count": 65,
   "id": "7013c226-38e3-44a7-9db0-04c279717d5e",
   "metadata": {},
   "outputs": [
    {
     "name": "stdout",
     "output_type": "stream",
     "text": [
      "323\n"
     ]
    }
   ],
   "source": [
    "a = 17\n",
    "b = 19\n",
    "print(a*b)"
   ]
  },
  {
   "cell_type": "code",
   "execution_count": 66,
   "id": "a13bed95-e243-4e05-9c8c-7e71b22d02fa",
   "metadata": {},
   "outputs": [
    {
     "name": "stdout",
     "output_type": "stream",
     "text": [
      "0.6842105263157895\n"
     ]
    }
   ],
   "source": [
    "a = 26\n",
    "b = 38\n",
    "print(a/b)"
   ]
  },
  {
   "cell_type": "code",
   "execution_count": 67,
   "id": "2a4d8207-ed45-4be4-95c3-d01dcabfae9b",
   "metadata": {},
   "outputs": [
    {
     "name": "stdout",
     "output_type": "stream",
     "text": [
      "1\n"
     ]
    }
   ],
   "source": [
    "a = 13\n",
    "b = 10\n",
    "print(a//b)"
   ]
  },
  {
   "cell_type": "code",
   "execution_count": 70,
   "id": "4c0c5140-7109-4bb5-a4fc-1c0df58375ff",
   "metadata": {},
   "outputs": [
    {
     "name": "stdout",
     "output_type": "stream",
     "text": [
      "14\n"
     ]
    }
   ],
   "source": [
    "a = 14\n",
    "b = 16\n",
    "print(a%b)"
   ]
  },
  {
   "cell_type": "code",
   "execution_count": 71,
   "id": "988e9ee7-85b9-4336-94b8-3ed15aba79c6",
   "metadata": {},
   "outputs": [
    {
     "name": "stdout",
     "output_type": "stream",
     "text": [
      "1776592919961297100543276866939850151538848876953125\n"
     ]
    }
   ],
   "source": [
    "a = 45\n",
    "b = 31\n",
    "print(a**b)"
   ]
  },
  {
   "cell_type": "code",
   "execution_count": 72,
   "id": "d27916dc-060c-4757-b8ca-3bd73e030ffa",
   "metadata": {},
   "outputs": [
    {
     "name": "stdout",
     "output_type": "stream",
     "text": [
      "False\n"
     ]
    }
   ],
   "source": [
    "a = 65\n",
    "b = 68\n",
    "print(a==b)"
   ]
  },
  {
   "cell_type": "code",
   "execution_count": 73,
   "id": "d1acd297-86c5-4978-b93a-40570bcc3641",
   "metadata": {},
   "outputs": [
    {
     "name": "stdout",
     "output_type": "stream",
     "text": [
      "True\n"
     ]
    }
   ],
   "source": [
    "a = 5\n",
    "b = 3\n",
    "print(a!=b)"
   ]
  },
  {
   "cell_type": "code",
   "execution_count": 74,
   "id": "d9bbf2cf-45be-45f7-835c-e89c32ad85e8",
   "metadata": {},
   "outputs": [
    {
     "name": "stdout",
     "output_type": "stream",
     "text": [
      "False\n"
     ]
    }
   ],
   "source": [
    "a = 9\n",
    "b = 12\n",
    "print(a > b)"
   ]
  },
  {
   "cell_type": "code",
   "execution_count": 75,
   "id": "d2df5866-4e6b-42c8-a477-bdc982433609",
   "metadata": {},
   "outputs": [
    {
     "name": "stdout",
     "output_type": "stream",
     "text": [
      "True\n"
     ]
    }
   ],
   "source": [
    "a = 23\n",
    "b = 98\n",
    "print(a < b)"
   ]
  },
  {
   "cell_type": "code",
   "execution_count": 76,
   "id": "9086c518-eba6-4b7e-b535-fdfdea539a76",
   "metadata": {},
   "outputs": [
    {
     "name": "stdout",
     "output_type": "stream",
     "text": [
      "False\n"
     ]
    }
   ],
   "source": [
    "a = 50\n",
    "b = 60\n",
    "print(a >= b)"
   ]
  },
  {
   "cell_type": "code",
   "execution_count": 77,
   "id": "3fe13b37-2ba4-47ed-bf5e-17ab694d0ddb",
   "metadata": {},
   "outputs": [
    {
     "name": "stdout",
     "output_type": "stream",
     "text": [
      "False\n"
     ]
    }
   ],
   "source": [
    "a = 96\n",
    "b = 36\n",
    "print(a <= b)"
   ]
  },
  {
   "cell_type": "code",
   "execution_count": 78,
   "id": "1dbfadf8-a0fa-4b04-9576-23f711ebf669",
   "metadata": {},
   "outputs": [
    {
     "name": "stdout",
     "output_type": "stream",
     "text": [
      "False\n"
     ]
    }
   ],
   "source": [
    "a = True\n",
    "b = False\n",
    "print(a&b)"
   ]
  },
  {
   "cell_type": "code",
   "execution_count": 79,
   "id": "2576c2f9-327e-4f0e-b119-f81ba2285e52",
   "metadata": {},
   "outputs": [
    {
     "name": "stdout",
     "output_type": "stream",
     "text": [
      "True\n"
     ]
    }
   ],
   "source": [
    "a = True\n",
    "b = False\n",
    "print(a|b)"
   ]
  },
  {
   "cell_type": "code",
   "execution_count": 80,
   "id": "db06c5a9-ec95-43a4-b227-2889e4583b6b",
   "metadata": {},
   "outputs": [
    {
     "name": "stdout",
     "output_type": "stream",
     "text": [
      "False\n"
     ]
    }
   ],
   "source": [
    "a = True\n",
    "print(not a)"
   ]
  },
  {
   "cell_type": "code",
   "execution_count": 81,
   "id": "5bc02262-49c6-4a64-ad51-5ce34f5fe4e0",
   "metadata": {},
   "outputs": [],
   "source": [
    "#Assignment Oprators"
   ]
  },
  {
   "cell_type": "code",
   "execution_count": 82,
   "id": "f36dfc38-051b-4721-ba98-cb134f385338",
   "metadata": {},
   "outputs": [],
   "source": [
    "a = 5"
   ]
  },
  {
   "cell_type": "code",
   "execution_count": 84,
   "id": "f0275814-19e8-4870-b7cb-49195e613870",
   "metadata": {},
   "outputs": [
    {
     "name": "stdout",
     "output_type": "stream",
     "text": [
      "8\n"
     ]
    }
   ],
   "source": [
    "a = 5\n",
    "a+=3\n",
    "print(a)"
   ]
  },
  {
   "cell_type": "code",
   "execution_count": 85,
   "id": "1f015bdd-e2fd-4cde-8767-b4ea2f4ed81c",
   "metadata": {},
   "outputs": [
    {
     "name": "stdout",
     "output_type": "stream",
     "text": [
      "3\n"
     ]
    }
   ],
   "source": [
    "a = 5\n",
    "a-=2\n",
    "print(a)"
   ]
  },
  {
   "cell_type": "code",
   "execution_count": 86,
   "id": "898def4d-1c05-4dae-a018-f8af6c5095d0",
   "metadata": {},
   "outputs": [
    {
     "name": "stdout",
     "output_type": "stream",
     "text": [
      "10\n"
     ]
    }
   ],
   "source": [
    "a = 5\n",
    "a*=2\n",
    "print(a)"
   ]
  },
  {
   "cell_type": "code",
   "execution_count": 87,
   "id": "58718ac4-8a82-483e-acc7-5b58434809b7",
   "metadata": {},
   "outputs": [
    {
     "name": "stdout",
     "output_type": "stream",
     "text": [
      "2.5\n"
     ]
    }
   ],
   "source": [
    "a = 5\n",
    "a/=2\n",
    "print(a)"
   ]
  },
  {
   "cell_type": "code",
   "execution_count": 88,
   "id": "79961641-c853-45d3-a1d1-cb4c298b42a9",
   "metadata": {},
   "outputs": [
    {
     "name": "stdout",
     "output_type": "stream",
     "text": [
      "1\n"
     ]
    }
   ],
   "source": [
    "a = 5\n",
    "a%=2\n",
    "print(a)"
   ]
  },
  {
   "cell_type": "code",
   "execution_count": 89,
   "id": "09116979-5f94-499f-b768-c377a79eb834",
   "metadata": {},
   "outputs": [
    {
     "name": "stdout",
     "output_type": "stream",
     "text": [
      "25\n"
     ]
    }
   ],
   "source": [
    "a = 5\n",
    "a**=2\n",
    "print(a)"
   ]
  },
  {
   "cell_type": "code",
   "execution_count": 90,
   "id": "1734e14f-6d21-4110-ab6f-03466d55afec",
   "metadata": {},
   "outputs": [
    {
     "name": "stdout",
     "output_type": "stream",
     "text": [
      "0\n"
     ]
    }
   ],
   "source": [
    "a = 5\n",
    "b = 2\n",
    "print(a&b)"
   ]
  },
  {
   "cell_type": "code",
   "execution_count": 91,
   "id": "59f3a20e-fad3-4d6b-87fc-9e56d118ff64",
   "metadata": {},
   "outputs": [
    {
     "name": "stdout",
     "output_type": "stream",
     "text": [
      "7\n"
     ]
    }
   ],
   "source": [
    "a = 5\n",
    "b = 3\n",
    "print(a|b)"
   ]
  },
  {
   "cell_type": "code",
   "execution_count": 92,
   "id": "307e3c50-5784-44ed-818a-99e0c62c451d",
   "metadata": {},
   "outputs": [
    {
     "name": "stdout",
     "output_type": "stream",
     "text": [
      "12\n"
     ]
    }
   ],
   "source": [
    " a = 6\n",
    " b = 10\n",
    "print(a^b)"
   ]
  },
  {
   "cell_type": "code",
   "execution_count": 93,
   "id": "c399eef2-c4aa-4447-84fd-e396345829b2",
   "metadata": {},
   "outputs": [
    {
     "name": "stdout",
     "output_type": "stream",
     "text": [
      "-6\n"
     ]
    }
   ],
   "source": [
    "a=5\n",
    "print(~a)"
   ]
  },
  {
   "cell_type": "code",
   "execution_count": 95,
   "id": "8760c0ed-c452-40d8-8211-fd48ea3e0739",
   "metadata": {},
   "outputs": [
    {
     "name": "stdout",
     "output_type": "stream",
     "text": [
      "10\n"
     ]
    }
   ],
   "source": [
    "a = 5\n",
    "print(a<<1)"
   ]
  },
  {
   "cell_type": "code",
   "execution_count": 96,
   "id": "385649ef-3740-4a46-a043-6bc7aa1c7b0f",
   "metadata": {},
   "outputs": [
    {
     "name": "stdout",
     "output_type": "stream",
     "text": [
      "5\n"
     ]
    }
   ],
   "source": [
    "a = 10\n",
    "print(a>>1)"
   ]
  },
  {
   "cell_type": "code",
   "execution_count": 97,
   "id": "572ef2c7-96f4-4611-8026-c0b49982a29b",
   "metadata": {},
   "outputs": [
    {
     "name": "stdout",
     "output_type": "stream",
     "text": [
      "True\n"
     ]
    }
   ],
   "source": [
    "a = [1,2,3]\n",
    "b = a\n",
    "print(a is b)"
   ]
  },
  {
   "cell_type": "code",
   "execution_count": 98,
   "id": "064fceda-b0a2-47ba-b360-5967fcec253b",
   "metadata": {},
   "outputs": [
    {
     "name": "stdout",
     "output_type": "stream",
     "text": [
      "True\n"
     ]
    }
   ],
   "source": [
    "a = [1,2,3]\n",
    "b = [1,2,3]\n",
    "print(a is not b)"
   ]
  },
  {
   "cell_type": "code",
   "execution_count": 100,
   "id": "c9192666-9344-4b72-8942-76d99fff5597",
   "metadata": {},
   "outputs": [
    {
     "name": "stdout",
     "output_type": "stream",
     "text": [
      "True\n"
     ]
    }
   ],
   "source": [
    "a = [1,2,3,4]\n",
    "print(2 in a)"
   ]
  },
  {
   "cell_type": "code",
   "execution_count": 101,
   "id": "fb0caaab-03a6-41ad-bb37-bec05cc27b0e",
   "metadata": {},
   "outputs": [
    {
     "name": "stdout",
     "output_type": "stream",
     "text": [
      "True\n"
     ]
    }
   ],
   "source": [
    "a = [1,2,3]\n",
    "print(4 not in a)"
   ]
  },
  {
   "cell_type": "code",
   "execution_count": 1,
   "id": "08a24aa2-1914-4a0c-85c1-01e35f22445f",
   "metadata": {},
   "outputs": [],
   "source": [
    "#Q.5 explain the concept of type casting in the python with examples."
   ]
  },
  {
   "cell_type": "code",
   "execution_count": 8,
   "id": "7bbffa28-a711-47a8-a967-b6ced595ce2e",
   "metadata": {},
   "outputs": [
    {
     "name": "stdout",
     "output_type": "stream",
     "text": [
      "3\n"
     ]
    }
   ],
   "source": [
    "float_Value= 3.14\n",
    "int_Value= int(float_Value)\n",
    "print(int_Value)"
   ]
  },
  {
   "cell_type": "code",
   "execution_count": 11,
   "id": "3a196829-ce9c-4150-86fb-11ef7c7daf83",
   "metadata": {},
   "outputs": [
    {
     "name": "stdout",
     "output_type": "stream",
     "text": [
      "78\n"
     ]
    }
   ],
   "source": [
    "string_Value=\"78\"\n",
    "int_value= int(string_Value)\n",
    "print(int_value)"
   ]
  },
  {
   "cell_type": "code",
   "execution_count": 12,
   "id": "0c1cb2a8-a936-4644-b558-e09445d471a2",
   "metadata": {},
   "outputs": [
    {
     "name": "stdout",
     "output_type": "stream",
     "text": [
      "10.0\n"
     ]
    }
   ],
   "source": [
    "int_value= 10\n",
    "float_value=float(int_value)\n",
    "print(float_value)"
   ]
  },
  {
   "cell_type": "code",
   "execution_count": 25,
   "id": "74d7be23-1c1d-44bc-9cf5-8331191ac026",
   "metadata": {},
   "outputs": [
    {
     "name": "stdout",
     "output_type": "stream",
     "text": [
      "4.5\n"
     ]
    }
   ],
   "source": [
    "str_value = \"4.5\"\n",
    "float_value = float(str_value)\n",
    "print(float_value)"
   ]
  },
  {
   "cell_type": "code",
   "execution_count": 46,
   "id": "1443257c-d581-45a5-87c6-0831572331ab",
   "metadata": {},
   "outputs": [
    {
     "name": "stdout",
     "output_type": "stream",
     "text": [
      "10.0\n"
     ]
    }
   ],
   "source": [
    "int_value = 10\n",
    "float_value = float(int_value)\n",
    "print(float_value)"
   ]
  },
  {
   "cell_type": "code",
   "execution_count": 51,
   "id": "a7bd4e18-18d6-4b1f-ab33-11c65bb284fb",
   "metadata": {},
   "outputs": [
    {
     "name": "stdout",
     "output_type": "stream",
     "text": [
      "['p', 'r', 'i', 'y', 'a']\n"
     ]
    }
   ],
   "source": [
    "string_value = \"priya\"\n",
    "list_value = list(string_value)\n",
    "print(list_value)\n"
   ]
  },
  {
   "cell_type": "code",
   "execution_count": 52,
   "id": "2d747d87-de4a-484b-8a30-97906a6f3720",
   "metadata": {},
   "outputs": [
    {
     "name": "stdout",
     "output_type": "stream",
     "text": [
      "[1, 2, 3, 4, 5]\n"
     ]
    }
   ],
   "source": [
    "tuple_value = (1,2,3,4,5)\n",
    "list_value = list(tuple_value)\n",
    "print(list_value)"
   ]
  },
  {
   "cell_type": "code",
   "execution_count": 54,
   "id": "423c3284-a34c-4284-91c1-cb7f26b6c76c",
   "metadata": {},
   "outputs": [],
   "source": [
    "# Q.6 how to conditional statements work in python? illustrate with examples\n"
   ]
  },
  {
   "cell_type": "code",
   "execution_count": 55,
   "id": "48750df9-1470-4604-95fc-4b156dc6b5f7",
   "metadata": {},
   "outputs": [
    {
     "name": "stdout",
     "output_type": "stream",
     "text": [
      "a is greater than b\n"
     ]
    }
   ],
   "source": [
    "a=50\n",
    "b=10\n",
    "if a>b:\n",
    "    print(\"a is greater than b\")\n",
    "    \n"
   ]
  },
  {
   "cell_type": "code",
   "execution_count": 56,
   "id": "3ade4ef4-7c7d-4ffd-a990-0f2a2501a0b1",
   "metadata": {},
   "outputs": [
    {
     "name": "stdout",
     "output_type": "stream",
     "text": [
      "You are a minor\n"
     ]
    }
   ],
   "source": [
    "age  = 28\n",
    "if age>= 29:\n",
    "    print(\"You are an Adult\")\n",
    "else:\n",
    "    print(\"You are a minor\")"
   ]
  },
  {
   "cell_type": "code",
   "execution_count": 2,
   "id": "01f61a34-ff11-4880-b107-56bb1107d9ab",
   "metadata": {},
   "outputs": [
    {
     "name": "stdout",
     "output_type": "stream",
     "text": [
      "Grade: D or lower\n"
     ]
    }
   ],
   "source": [
    "score = 50\n",
    "if score>= 105:\n",
    "    print(\"Grade:A\")\n",
    "elif score>=100:\n",
    "    print(\"Grade:B\")\n",
    "elif score>=90:\n",
    "    print(\"Grade:C\")\n",
    "else:\n",
    "    print(\"Grade: D or lower\")"
   ]
  },
  {
   "cell_type": "code",
   "execution_count": 3,
   "id": "1e66d5a6-0560-481e-8fdc-b0f3b0482be9",
   "metadata": {},
   "outputs": [],
   "source": [
    "#Q.7 Describe the different type of loop in python and there use cases with example"
   ]
  },
  {
   "cell_type": "code",
   "execution_count": 4,
   "id": "6c7c09ff-0b38-4d97-b4f1-21bb42148dbe",
   "metadata": {},
   "outputs": [],
   "source": [
    "#Ans # For Loops"
   ]
  },
  {
   "cell_type": "code",
   "execution_count": 1,
   "id": "e46f5560-6007-487f-a7ca-a87239d8314a",
   "metadata": {},
   "outputs": [
    {
     "name": "stdout",
     "output_type": "stream",
     "text": [
      "banana\n",
      "apple\n",
      "cherry\n"
     ]
    }
   ],
   "source": [
    "fruits = [\"banana\",\"apple\",\"cherry\"]\n",
    "for fruit in fruits:\n",
    "     print(fruit)"
   ]
  },
  {
   "cell_type": "code",
   "execution_count": 2,
   "id": "e038ea61-1ee1-45ec-9782-92d18d884620",
   "metadata": {},
   "outputs": [
    {
     "name": "stdout",
     "output_type": "stream",
     "text": [
      "0\n",
      "1\n",
      "2\n",
      "3\n",
      "4\n"
     ]
    }
   ],
   "source": [
    "for i in range(5):\n",
    "    print(i)"
   ]
  },
  {
   "cell_type": "code",
   "execution_count": 16,
   "id": "14442962-cd6a-4ba1-8cee-13571b13f0ef",
   "metadata": {},
   "outputs": [
    {
     "name": "stdout",
     "output_type": "stream",
     "text": [
      "computer\n",
      "computer\n",
      "computer\n",
      "computer\n"
     ]
    }
   ],
   "source": [
    "x=1\n",
    "while x<5:\n",
    "    print(\"computer\")\n",
    "    x+=1\n"
   ]
  },
  {
   "cell_type": "code",
   "execution_count": 19,
   "id": "4d3353f1-78a1-4e26-8295-c1e0861b5b69",
   "metadata": {},
   "outputs": [
    {
     "name": "stdout",
     "output_type": "stream",
     "text": [
      "2\n",
      "3\n",
      "4\n"
     ]
    }
   ],
   "source": [
    "i=0\n",
    "while i<4:\n",
    "    i+=1\n",
    "    if i==1:\n",
    "        continue\n",
    "    print(i)"
   ]
  },
  {
   "cell_type": "code",
   "execution_count": 20,
   "id": "f52012df-0e97-44e3-b044-3da6cc659d0c",
   "metadata": {},
   "outputs": [
    {
     "name": "stdout",
     "output_type": "stream",
     "text": [
      "1\n"
     ]
    }
   ],
   "source": [
    "x=1\n",
    "while x<1000:\n",
    "    print(x)\n",
    "    break"
   ]
  },
  {
   "cell_type": "code",
   "execution_count": null,
   "id": "46e30b7b-1e6c-4266-b59f-958626bc2dde",
   "metadata": {},
   "outputs": [],
   "source": []
  }
 ],
 "metadata": {
  "kernelspec": {
   "display_name": "Python 3 (ipykernel)",
   "language": "python",
   "name": "python3"
  },
  "language_info": {
   "codemirror_mode": {
    "name": "ipython",
    "version": 3
   },
   "file_extension": ".py",
   "mimetype": "text/x-python",
   "name": "python",
   "nbconvert_exporter": "python",
   "pygments_lexer": "ipython3",
   "version": "3.10.8"
  }
 },
 "nbformat": 4,
 "nbformat_minor": 5
}
